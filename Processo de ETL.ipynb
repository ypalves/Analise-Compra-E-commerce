{
 "cells": [
  {
   "cell_type": "code",
   "execution_count": 162,
   "metadata": {},
   "outputs": [],
   "source": [
    "# Importação das bibliotecas\n",
    "\n",
    "import pandas as pd\n",
    "from datetime import date"
   ]
  },
  {
   "cell_type": "code",
   "execution_count": 163,
   "metadata": {},
   "outputs": [],
   "source": [
    "# Importação dos arquivos CSV dos dados\n",
    "\n",
    "arquivo1 = 'C:/Users/******/Desktop/*********/Análise do Comportamento de Compra - E-commerce/Relatorio de Clientes Feminino.csv'\n",
    "arquivo2 = 'C:/Users/******/Desktop/*********/Análise do Comportamento de Compra - E-commerce/Relatorio de Clientes Masculino.csv'\n",
    "arquivo3 = 'C:/Users/******/Desktop/*********/Análise do Comportamento de Compra - E-commerce/Vendas.csv'\n",
    "df_clientes_fem = pd.read_csv(arquivo1, sep = ';', encoding = 'latin-1')\n",
    "df_clientes_mas = pd.read_csv(arquivo2, sep = ';', encoding = 'latin-1')\n",
    "df_vendas = pd.read_csv(arquivo3, sep = ';')"
   ]
  },
  {
   "cell_type": "code",
   "execution_count": null,
   "metadata": {
    "scrolled": false
   },
   "outputs": [],
   "source": [
    "# Exibição do cabeçalho do dataframe\n",
    "\n",
    "df_clientes_fem.head()"
   ]
  },
  {
   "cell_type": "code",
   "execution_count": null,
   "metadata": {
    "scrolled": true
   },
   "outputs": [],
   "source": [
    "# Seleção das colunas do dataframe que serão utilizadas e exibição do resultado\n",
    "\n",
    "df_clientes_fem = df_clientes_fem.iloc[:, [1, 3, 6]]\n",
    "df_clientes_fem.head()"
   ]
  },
  {
   "cell_type": "code",
   "execution_count": 166,
   "metadata": {},
   "outputs": [
    {
     "data": {
      "text/plain": [
       " Gênero                0\n",
       " Data de Nascimento    0\n",
       " Cpf/Cnpj              0\n",
       "dtype: int64"
      ]
     },
     "execution_count": 166,
     "metadata": {},
     "output_type": "execute_result"
    }
   ],
   "source": [
    "# Identificação de dados faltantes\n",
    "\n",
    "df_clientes_fem.isnull().sum()"
   ]
  },
  {
   "cell_type": "code",
   "execution_count": null,
   "metadata": {},
   "outputs": [],
   "source": [
    "# Exibição do cabeçalho do dataframe\n",
    "\n",
    "df_clientes_mas.head()"
   ]
  },
  {
   "cell_type": "code",
   "execution_count": null,
   "metadata": {},
   "outputs": [],
   "source": [
    "# Seleção das colunas do dataframe que serão utilizadas e exibição do resultado\n",
    "\n",
    "df_clientes_mas = df_clientes_mas.iloc[:, [1, 3, 6]]\n",
    "df_clientes_mas.head()"
   ]
  },
  {
   "cell_type": "code",
   "execution_count": 169,
   "metadata": {},
   "outputs": [
    {
     "data": {
      "text/plain": [
       " Gênero                0\n",
       " Data de Nascimento    0\n",
       " Cpf/Cnpj              0\n",
       "dtype: int64"
      ]
     },
     "execution_count": 169,
     "metadata": {},
     "output_type": "execute_result"
    }
   ],
   "source": [
    "# Identificação de dados faltantes\n",
    "\n",
    "df_clientes_mas.isnull().sum()"
   ]
  },
  {
   "cell_type": "code",
   "execution_count": null,
   "metadata": {},
   "outputs": [],
   "source": [
    "# Exibição do cabeçalho do dataframe\n",
    "\n",
    "df_vendas.head()"
   ]
  },
  {
   "cell_type": "code",
   "execution_count": 171,
   "metadata": {},
   "outputs": [
    {
     "data": {
      "text/plain": [
       "ID_CLIENTE        0\n",
       "CPF               0\n",
       "ID_PRODUTO        0\n",
       "VALOR_UNITARIO    0\n",
       "QUANTIDADE        0\n",
       "VALOR_TOTAL       0\n",
       "dtype: int64"
      ]
     },
     "execution_count": 171,
     "metadata": {},
     "output_type": "execute_result"
    }
   ],
   "source": [
    "# Identificação de dados faltantes\n",
    "\n",
    "df_vendas.isnull().sum()"
   ]
  },
  {
   "cell_type": "code",
   "execution_count": null,
   "metadata": {},
   "outputs": [],
   "source": [
    "# União dos dataframes de clientes femininos e masculinos\n",
    "\n",
    "df_clientes = pd.concat([df_clientes_fem, df_clientes_mas])\n",
    "\n",
    "df_clientes # Exibição dos dados"
   ]
  },
  {
   "cell_type": "code",
   "execution_count": null,
   "metadata": {},
   "outputs": [],
   "source": [
    "# Renomeação das colunas do dataframe\n",
    "\n",
    "df_clientes.columns = ['GENERO', 'DATA_NASCIMENTO', 'CPF'] \n",
    "\n",
    "df_clientes # Exibição dos dados"
   ]
  },
  {
   "cell_type": "code",
   "execution_count": null,
   "metadata": {},
   "outputs": [],
   "source": [
    "# União dos dataframes de clientes e de vendas e exibição do resultado\n",
    "\n",
    "df_vendas_final = pd.merge(df_clientes, df_vendas, how = 'inner', on = 'CPF').sort_values(by = 'ID_CLIENTE')\n",
    "\n",
    "df_vendas_final"
   ]
  },
  {
   "cell_type": "code",
   "execution_count": 175,
   "metadata": {
    "scrolled": true
   },
   "outputs": [
    {
     "name": "stdout",
     "output_type": "stream",
     "text": [
      "<class 'pandas.core.frame.DataFrame'>\n",
      "Int64Index: 18698 entries, 16939 to 414\n",
      "Data columns (total 8 columns):\n",
      " #   Column           Non-Null Count  Dtype \n",
      "---  ------           --------------  ----- \n",
      " 0   GENERO           18698 non-null  object\n",
      " 1   DATA_NASCIMENTO  18698 non-null  object\n",
      " 2   CPF              18698 non-null  int64 \n",
      " 3   ID_CLIENTE       18698 non-null  int64 \n",
      " 4   ID_PRODUTO       18698 non-null  object\n",
      " 5   VALOR_UNITARIO   18698 non-null  object\n",
      " 6   QUANTIDADE       18698 non-null  int64 \n",
      " 7   VALOR_TOTAL      18698 non-null  object\n",
      "dtypes: int64(3), object(5)\n",
      "memory usage: 1.3+ MB\n"
     ]
    }
   ],
   "source": [
    "# Visualização do tipo de dados de cada coluna\n",
    "\n",
    "df_vendas_final.info()"
   ]
  },
  {
   "cell_type": "code",
   "execution_count": null,
   "metadata": {},
   "outputs": [],
   "source": [
    "# Substituição de vírgulas por pontos nos dados das colunas de valores\n",
    "\n",
    "df_vendas_final['VALOR_UNITARIO'] = df_vendas_final['VALOR_UNITARIO'].str.replace(',', '.')\n",
    "df_vendas_final['VALOR_TOTAL'] = df_vendas_final['VALOR_TOTAL'].str.replace(',', '.')\n",
    "\n",
    "df_vendas_final.head() # Exibição dos dados"
   ]
  },
  {
   "cell_type": "code",
   "execution_count": 177,
   "metadata": {},
   "outputs": [
    {
     "name": "stdout",
     "output_type": "stream",
     "text": [
      "<class 'pandas.core.frame.DataFrame'>\n",
      "Int64Index: 18698 entries, 16939 to 414\n",
      "Data columns (total 8 columns):\n",
      " #   Column           Non-Null Count  Dtype         \n",
      "---  ------           --------------  -----         \n",
      " 0   GENERO           18698 non-null  object        \n",
      " 1   DATA_NASCIMENTO  18698 non-null  datetime64[ns]\n",
      " 2   CPF              18698 non-null  int64         \n",
      " 3   ID_CLIENTE       18698 non-null  int64         \n",
      " 4   ID_PRODUTO       18698 non-null  object        \n",
      " 5   VALOR_UNITARIO   18698 non-null  float64       \n",
      " 6   QUANTIDADE       18698 non-null  int64         \n",
      " 7   VALOR_TOTAL      18698 non-null  float64       \n",
      "dtypes: datetime64[ns](1), float64(2), int64(3), object(2)\n",
      "memory usage: 1.3+ MB\n"
     ]
    }
   ],
   "source": [
    "# Alteração do tipo de dados das colunas\n",
    "\n",
    "df_vendas_final['DATA_NASCIMENTO'] = pd.to_datetime(df_vendas_final['DATA_NASCIMENTO'], dayfirst = True)\n",
    "df_vendas_final['VALOR_UNITARIO'] = pd.to_numeric(df_vendas_final['VALOR_UNITARIO'])\n",
    "df_vendas_final['VALOR_TOTAL'] = pd.to_numeric(df_vendas_final['VALOR_TOTAL'])\n",
    "\n",
    "df_vendas_final.info() # Visualização do tipo de dados de cada coluna"
   ]
  },
  {
   "cell_type": "code",
   "execution_count": null,
   "metadata": {},
   "outputs": [],
   "source": [
    "df_vendas_final # Exibição dos dados"
   ]
  },
  {
   "cell_type": "code",
   "execution_count": 179,
   "metadata": {},
   "outputs": [],
   "source": [
    "# Função que retorna a idade baseada na data de nascimento\n",
    "\n",
    "def calculateAge(birthDate):\n",
    "    today = date.today()\n",
    "    age = today.year - birthDate.year - ((today.month, today.day) < (birthDate.month, birthDate.day))\n",
    " \n",
    "    return age"
   ]
  },
  {
   "cell_type": "code",
   "execution_count": 180,
   "metadata": {},
   "outputs": [],
   "source": [
    "# Execução da função que retorna a idade para todos os registros do dataframe\n",
    "\n",
    "for index, row in df_vendas_final.iterrows():\n",
    "        df_vendas_final.loc[index, 'IDADE'] = calculateAge(df_vendas_final.loc[index, 'DATA_NASCIMENTO'])"
   ]
  },
  {
   "cell_type": "code",
   "execution_count": null,
   "metadata": {},
   "outputs": [],
   "source": [
    "# Exibição dos dados\n",
    "\n",
    "df_vendas_final "
   ]
  },
  {
   "cell_type": "code",
   "execution_count": 182,
   "metadata": {},
   "outputs": [
    {
     "name": "stdout",
     "output_type": "stream",
     "text": [
      "<class 'pandas.core.frame.DataFrame'>\n",
      "Int64Index: 18698 entries, 16939 to 414\n",
      "Data columns (total 9 columns):\n",
      " #   Column           Non-Null Count  Dtype         \n",
      "---  ------           --------------  -----         \n",
      " 0   GENERO           18698 non-null  object        \n",
      " 1   DATA_NASCIMENTO  18698 non-null  datetime64[ns]\n",
      " 2   CPF              18698 non-null  int64         \n",
      " 3   ID_CLIENTE       18698 non-null  int64         \n",
      " 4   ID_PRODUTO       18698 non-null  object        \n",
      " 5   VALOR_UNITARIO   18698 non-null  float64       \n",
      " 6   QUANTIDADE       18698 non-null  int64         \n",
      " 7   VALOR_TOTAL      18698 non-null  float64       \n",
      " 8   IDADE            18698 non-null  float64       \n",
      "dtypes: datetime64[ns](1), float64(3), int64(3), object(2)\n",
      "memory usage: 1.9+ MB\n"
     ]
    }
   ],
   "source": [
    "# Visualização do tipo de dados de cada coluna\n",
    "\n",
    "df_vendas_final.info() "
   ]
  },
  {
   "cell_type": "code",
   "execution_count": 183,
   "metadata": {},
   "outputs": [],
   "source": [
    "# Alteração do tipo de dado da coluna \"IDADE\"\n",
    "\n",
    "df_vendas_final['IDADE'] = df_vendas_final['IDADE'].astype(int)"
   ]
  },
  {
   "cell_type": "code",
   "execution_count": 184,
   "metadata": {},
   "outputs": [
    {
     "name": "stdout",
     "output_type": "stream",
     "text": [
      "<class 'pandas.core.frame.DataFrame'>\n",
      "Int64Index: 18698 entries, 16939 to 414\n",
      "Data columns (total 9 columns):\n",
      " #   Column           Non-Null Count  Dtype         \n",
      "---  ------           --------------  -----         \n",
      " 0   GENERO           18698 non-null  object        \n",
      " 1   DATA_NASCIMENTO  18698 non-null  datetime64[ns]\n",
      " 2   CPF              18698 non-null  int64         \n",
      " 3   ID_CLIENTE       18698 non-null  int64         \n",
      " 4   ID_PRODUTO       18698 non-null  object        \n",
      " 5   VALOR_UNITARIO   18698 non-null  float64       \n",
      " 6   QUANTIDADE       18698 non-null  int64         \n",
      " 7   VALOR_TOTAL      18698 non-null  float64       \n",
      " 8   IDADE            18698 non-null  int32         \n",
      "dtypes: datetime64[ns](1), float64(2), int32(1), int64(3), object(2)\n",
      "memory usage: 1.9+ MB\n"
     ]
    }
   ],
   "source": [
    "# Visualização do tipo de dados de cada coluna\n",
    "\n",
    "df_vendas_final.info() "
   ]
  },
  {
   "cell_type": "code",
   "execution_count": null,
   "metadata": {},
   "outputs": [],
   "source": [
    "# Exibição do cabeçalho do dataframe\n",
    "df_vendas_final.head()"
   ]
  },
  {
   "cell_type": "code",
   "execution_count": 186,
   "metadata": {},
   "outputs": [
    {
     "data": {
      "text/html": [
       "<div>\n",
       "<style scoped>\n",
       "    .dataframe tbody tr th:only-of-type {\n",
       "        vertical-align: middle;\n",
       "    }\n",
       "\n",
       "    .dataframe tbody tr th {\n",
       "        vertical-align: top;\n",
       "    }\n",
       "\n",
       "    .dataframe thead th {\n",
       "        text-align: right;\n",
       "    }\n",
       "</style>\n",
       "<table border=\"1\" class=\"dataframe\">\n",
       "  <thead>\n",
       "    <tr style=\"text-align: right;\">\n",
       "      <th></th>\n",
       "      <th>GENERO</th>\n",
       "      <th>ID_CLIENTE</th>\n",
       "      <th>ID_PRODUTO</th>\n",
       "      <th>VALOR_UNITARIO</th>\n",
       "      <th>QUANTIDADE</th>\n",
       "      <th>VALOR_TOTAL</th>\n",
       "      <th>IDADE</th>\n",
       "    </tr>\n",
       "  </thead>\n",
       "  <tbody>\n",
       "    <tr>\n",
       "      <th>16939</th>\n",
       "      <td>Masculino</td>\n",
       "      <td>380</td>\n",
       "      <td>120030001</td>\n",
       "      <td>49.68</td>\n",
       "      <td>3</td>\n",
       "      <td>149.04</td>\n",
       "      <td>74</td>\n",
       "    </tr>\n",
       "    <tr>\n",
       "      <th>16940</th>\n",
       "      <td>Masculino</td>\n",
       "      <td>380</td>\n",
       "      <td>120070003</td>\n",
       "      <td>35.28</td>\n",
       "      <td>3</td>\n",
       "      <td>105.84</td>\n",
       "      <td>74</td>\n",
       "    </tr>\n",
       "    <tr>\n",
       "      <th>16941</th>\n",
       "      <td>Masculino</td>\n",
       "      <td>380</td>\n",
       "      <td>850040007</td>\n",
       "      <td>207.00</td>\n",
       "      <td>1</td>\n",
       "      <td>207.00</td>\n",
       "      <td>74</td>\n",
       "    </tr>\n",
       "    <tr>\n",
       "      <th>10685</th>\n",
       "      <td>Masculino</td>\n",
       "      <td>806</td>\n",
       "      <td>850040007</td>\n",
       "      <td>207.00</td>\n",
       "      <td>1</td>\n",
       "      <td>207.00</td>\n",
       "      <td>56</td>\n",
       "    </tr>\n",
       "    <tr>\n",
       "      <th>10682</th>\n",
       "      <td>Masculino</td>\n",
       "      <td>806</td>\n",
       "      <td>E930030026</td>\n",
       "      <td>23.80</td>\n",
       "      <td>2</td>\n",
       "      <td>47.60</td>\n",
       "      <td>56</td>\n",
       "    </tr>\n",
       "  </tbody>\n",
       "</table>\n",
       "</div>"
      ],
      "text/plain": [
       "           GENERO  ID_CLIENTE  ID_PRODUTO  VALOR_UNITARIO  QUANTIDADE  \\\n",
       "16939   Masculino         380   120030001           49.68           3   \n",
       "16940   Masculino         380   120070003           35.28           3   \n",
       "16941   Masculino         380   850040007          207.00           1   \n",
       "10685   Masculino         806   850040007          207.00           1   \n",
       "10682   Masculino         806  E930030026           23.80           2   \n",
       "\n",
       "       VALOR_TOTAL  IDADE  \n",
       "16939       149.04     74  \n",
       "16940       105.84     74  \n",
       "16941       207.00     74  \n",
       "10685       207.00     56  \n",
       "10682        47.60     56  "
      ]
     },
     "execution_count": 186,
     "metadata": {},
     "output_type": "execute_result"
    }
   ],
   "source": [
    "# Seleção das colunas do dataframe que serão utilizadas e exibição do resultado\n",
    "\n",
    "df_vendas_final = df_vendas_final.iloc[:, [0, 3, 4, 5, 6, 7, 8]]\n",
    "df_vendas_final.head()"
   ]
  },
  {
   "cell_type": "code",
   "execution_count": 187,
   "metadata": {},
   "outputs": [],
   "source": [
    "# Exportação dos dados transformados para um arquivo .CSV\n",
    "\n",
    "df_vendas_final.to_csv('C:/Users/*******/Desktop/********/Análise do Comportamento de Compra - E-commerce/Vendas_Final.csv', sep = ';')"
   ]
  }
 ],
 "metadata": {
  "kernelspec": {
   "display_name": "Python 3",
   "language": "python",
   "name": "python3"
  },
  "language_info": {
   "codemirror_mode": {
    "name": "ipython",
    "version": 3
   },
   "file_extension": ".py",
   "mimetype": "text/x-python",
   "name": "python",
   "nbconvert_exporter": "python",
   "pygments_lexer": "ipython3",
   "version": "3.7.6"
  }
 },
 "nbformat": 4,
 "nbformat_minor": 4
}
